{
 "cells": [
  {
   "cell_type": "code",
   "execution_count": 21,
   "metadata": {
    "collapsed": true
   },
   "outputs": [],
   "source": [
    "from pulp import *\n",
    "import pandas as pd"
   ]
  },
  {
   "cell_type": "code",
   "execution_count": 28,
   "metadata": {
    "collapsed": true
   },
   "outputs": [],
   "source": [
    "# declare your variables\n",
    "x1 = LpVariable(\"x1\", 0,1,LpContinuous)   # -1 <= x1 <= 1\n",
    "x2 = LpVariable(\"x2\", 0,1,LpContinuous) # -1 <= x2 <= 1"
   ]
  },
  {
   "cell_type": "code",
   "execution_count": 29,
   "metadata": {
    "collapsed": true
   },
   "outputs": [],
   "source": [
    "# defines the problem\n",
    "prob = LpProblem(\"problem\", LpMinimize)"
   ]
  },
  {
   "cell_type": "code",
   "execution_count": 30,
   "metadata": {
    "collapsed": true
   },
   "outputs": [],
   "source": [
    "# defines the objective function to maximize\n",
    "prob += 3*x1-2*x2 "
   ]
  },
  {
   "cell_type": "code",
   "execution_count": 31,
   "metadata": {
    "collapsed": true
   },
   "outputs": [],
   "source": [
    "# defines the constraints\n",
    "prob += -x2 - x1 <= 1.5\n",
    "prob += x2 + x1 <= 1.5\n",
    "prob += x2 - x1 <= 1.5\n",
    "prob += x1 - x2 <= 1.5"
   ]
  },
  {
   "cell_type": "code",
   "execution_count": 32,
   "metadata": {},
   "outputs": [
    {
     "data": {
      "text/plain": [
       "1"
      ]
     },
     "execution_count": 32,
     "metadata": {},
     "output_type": "execute_result"
    }
   ],
   "source": [
    "#solve\n",
    "prob.writeLP(\"Assignment1.lp\")\n",
    "prob.solve()"
   ]
  },
  {
   "cell_type": "code",
   "execution_count": 33,
   "metadata": {},
   "outputs": [
    {
     "name": "stdout",
     "output_type": "stream",
     "text": [
      "x1 = -1.0 \tReduced Cost = 1.0\n",
      "x2 = 0.5 \tReduced Cost = 0.0\n",
      "objective= -4.0\n",
      "\n",
      "Sensitivity Analysis\n",
      "Constraint\t\tShadow Price\tSlack\n",
      "_C1 : -x1 - x2 <= 1.5 \t 0.0 \t\t 1.0\n",
      "_C2 : x1 + x2 <= 1.5 \t 0.0 \t\t 2.0\n",
      "_C3 : -x1 + x2 <= 1.5 \t -2.0 \t\t -0.0\n",
      "_C4 : x1 - x2 <= 1.5 \t 0.0 \t\t 3.0\n",
      "Status: Optimal\n"
     ]
    },
    {
     "data": {
      "text/plain": [
       "0.5"
      ]
     },
     "execution_count": 33,
     "metadata": {},
     "output_type": "execute_result"
    }
   ],
   "source": [
    "for v in prob.variables():\n",
    "\t        print (v.name, \"=\", v.varValue, \"\\tReduced Cost =\", v.dj)\n",
    "\n",
    "print (\"objective=\", value(prob.objective))\n",
    "\n",
    "print (\"\\nSensitivity Analysis\\nConstraint\\t\\tShadow Price\\tSlack\")\n",
    "for name, c in prob.constraints.items():\n",
    "        print (name, \":\", c, \"\\t\", c.pi, \"\\t\\t\", c.slack)\n",
    "\n",
    "print(\"Status:\", LpStatus[prob.status])\n",
    "\n",
    "value(x1)\n",
    "value(x2)"
   ]
  },
  {
   "cell_type": "code",
   "execution_count": null,
   "metadata": {
    "collapsed": true
   },
   "outputs": [],
   "source": []
  }
 ],
 "metadata": {
  "kernelspec": {
   "display_name": "Python 3",
   "language": "python",
   "name": "python3"
  },
  "language_info": {
   "codemirror_mode": {
    "name": "ipython",
    "version": 3
   },
   "file_extension": ".py",
   "mimetype": "text/x-python",
   "name": "python",
   "nbconvert_exporter": "python",
   "pygments_lexer": "ipython3",
   "version": "3.6.3"
  }
 },
 "nbformat": 4,
 "nbformat_minor": 2
}
