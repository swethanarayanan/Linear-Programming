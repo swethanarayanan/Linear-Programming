{
 "cells": [
  {
   "cell_type": "code",
   "execution_count": 50,
   "metadata": {
    "collapsed": true
   },
   "outputs": [],
   "source": [
    "from pulp import *\n",
    "import pandas as pd"
   ]
  },
  {
   "cell_type": "code",
   "execution_count": 51,
   "metadata": {
    "collapsed": true
   },
   "outputs": [],
   "source": [
    "# declare your variables\n",
    "# r(j) - Regular production of EVs in month j where j = 1,2,3,4,5,6\n",
    "# o(j) - Overtime production of EVs in month j where j = 1,2,3,4,5,6\n",
    "# i(j) - Extra EVs carried over as inventory in month j where j = 1,2,3,4,5,6\n",
    "r1 = LpVariable(\"r1\", 0 ,None,LpContinuous) # 0<= r1 <= Infinity\n",
    "r2 = LpVariable(\"r2\", 0 ,None,LpContinuous) # 0<= r2 <= Infinity\n",
    "r3 = LpVariable(\"r3\", 0 ,None,LpContinuous) # 0<= r3 <= Infinity\n",
    "r4 = LpVariable(\"r4\", 0 ,None,LpContinuous) # 0<= r4 <= Infinity\n",
    "r5 = LpVariable(\"r5\", 0 ,None,LpContinuous) # 0<= r5 <= Infinity\n",
    "r6 = LpVariable(\"r6\", 0 ,None,LpContinuous) # 0<= r6 <= Infinity\n",
    "i1 = LpVariable(\"i1\", 0 ,None,LpContinuous) # 0<= i1 <= Infinity\n",
    "i2 = LpVariable(\"i2\", 0 ,None,LpContinuous) # 0<= i2 <= Infinity\n",
    "i3 = LpVariable(\"i3\", 0 ,None,LpContinuous) # 0<= i3 <= Infinity\n",
    "i4 = LpVariable(\"i4\", 0 ,None,LpContinuous) # 0<= i4 <= Infinity\n",
    "i5 = LpVariable(\"i5\", 0 ,None,LpContinuous) # 0<= i5 <= Infinity\n",
    "i6 = LpVariable(\"i6\", 0 ,None,LpContinuous) # 0<= i6 <= Infinity\n",
    "o1 = LpVariable(\"o1\", 0 ,None,LpContinuous) # 0<= o1 <= Infinity\n",
    "o2 = LpVariable(\"o2\", 0 ,None,LpContinuous) # 0<= o2 <= Infinity\n",
    "o3 = LpVariable(\"o3\", 0 ,None,LpContinuous) # 0<= o3 <= Infinity\n",
    "o4 = LpVariable(\"o4\", 0 ,None,LpContinuous) # 0<= o4 <= Infinity\n",
    "o5 = LpVariable(\"o5\", 0 ,None,LpContinuous) # 0<= o5 <= Infinity\n",
    "o6 = LpVariable(\"o6\", 0 ,None,LpContinuous) # 0<= o6 <= Infinity"
   ]
  },
  {
   "cell_type": "code",
   "execution_count": 52,
   "metadata": {
    "collapsed": true
   },
   "outputs": [],
   "source": [
    "# defines the problem\n",
    "prob = LpProblem(\"problem\", LpMinimize)"
   ]
  },
  {
   "cell_type": "code",
   "execution_count": 53,
   "metadata": {
    "collapsed": true
   },
   "outputs": [],
   "source": [
    "# defines the objective function to maximize\n",
    "prob += 32000*(r1 + r2+ r3+ r4+ r5+ r6)+40000*(o1 + o2+ o3+ o4+ o5+ o6)+ 5000*(i1 + i2+ i3+ i4+ i5+ i6)\n",
    "#where \n",
    "#Regular Production cost of per EV : $32000\n",
    "#Overtime Production cost of per EV : $40000\n",
    "#Inventory cost of per EV per month : $5000"
   ]
  },
  {
   "cell_type": "code",
   "execution_count": 41,
   "metadata": {
    "collapsed": true
   },
   "outputs": [],
   "source": [
    "# defines the constraints\n",
    "\n",
    "#Production capacity constraints for regular and overtime production\n",
    "prob += r1 <= 50000\n",
    "prob += r2 <= 50000\n",
    "prob += r3 <= 50000\n",
    "prob += r4 <= 50000\n",
    "prob += r5 <= 50000\n",
    "prob += r6 <= 50000\n",
    "prob += o1 <= 25000\n",
    "prob += o2 <= 25000\n",
    "prob += o3 <= 25000\n",
    "prob += o4 <= 25000\n",
    "prob += o5 <= 25000\n",
    "prob += o6 <= 25000\n",
    "\n",
    "#Meet the demand\n",
    "prob += r1 + o1 + 4500 - i1 == 50000\n",
    "prob += r2 + o2 + i1 - i2 == 25000\n",
    "prob += r3 + o3 + i2 - i3 == 25000\n",
    "prob += r4 + o4 + i3 - i4 == 42000\n",
    "prob += r5 + o5 + i4 - i5 == 55000\n",
    "prob += r6 + o6 + i5 - i6  == 67000"
   ]
  },
  {
   "cell_type": "code",
   "execution_count": 54,
   "metadata": {
    "collapsed": true
   },
   "outputs": [],
   "source": [
    "# defines the constraints\n",
    "\n",
    "#Production capacity constraints for regular and overtime production\n",
    "prob += r1 <= 50000\n",
    "prob += r2 <= 50000\n",
    "prob += r3 <= 50000\n",
    "prob += r4 <= 50000\n",
    "prob += r5 <= 50000\n",
    "prob += r6 <= 50000\n",
    "prob += o1 <= 25000\n",
    "prob += o2 <= 25000\n",
    "prob += o3 <= 25000\n",
    "prob += o4 <= 25000\n",
    "prob += o5 <= 25000\n",
    "prob += o6 <= 25000\n",
    "\n",
    "#Meet the demand\n",
    "prob += r1 + o1 + 4500 - i1 == 60000\n",
    "prob += r2 + o2 + i1 - i2 == 85000\n",
    "prob += r3 + o3 + i2 - i3 == 85000\n",
    "prob += r4 + o4 + i3 - i4 == 100000\n",
    "prob += r5 + o5 + i4 - i5 == 55000\n",
    "prob += r6 + o6 + i5 - i6  == 87000"
   ]
  },
  {
   "cell_type": "code",
   "execution_count": 55,
   "metadata": {},
   "outputs": [
    {
     "data": {
      "text/plain": [
       "-1"
      ]
     },
     "execution_count": 55,
     "metadata": {},
     "output_type": "execute_result"
    }
   ],
   "source": [
    "#solve\n",
    "prob.writeLP(\"Assignment1Prob2.lp\")\n",
    "prob.solve()"
   ]
  },
  {
   "cell_type": "code",
   "execution_count": 56,
   "metadata": {},
   "outputs": [
    {
     "name": "stdout",
     "output_type": "stream",
     "text": [
      "i1 = 45000.0 \tReduced Cost = 0.0\n",
      "i2 = 35000.0 \tReduced Cost = 0.0\n",
      "i3 = 25000.0 \tReduced Cost = 0.0\n",
      "i4 = 0.0 \tReduced Cost = 20000.082\n",
      "i5 = 12000.0 \tReduced Cost = 0.0\n",
      "i6 = 0.0 \tReduced Cost = 50000.221\n",
      "o1 = 50500.0 \tReduced Cost = 0.0\n",
      "o2 = 25000.0 \tReduced Cost = 0.0\n",
      "o3 = 25000.0 \tReduced Cost = 0.0\n",
      "o4 = 25000.0 \tReduced Cost = 0.0\n",
      "o5 = 17000.0 \tReduced Cost = 0.0\n",
      "o6 = 25000.0 \tReduced Cost = 0.0\n",
      "r1 = 50000.0 \tReduced Cost = 0.0\n",
      "r2 = 50000.0 \tReduced Cost = 0.0\n",
      "r3 = 50000.0 \tReduced Cost = 0.0\n",
      "r4 = 50000.0 \tReduced Cost = 0.0\n",
      "r5 = 50000.0 \tReduced Cost = 0.0\n",
      "r6 = 50000.0 \tReduced Cost = 0.0\n",
      "objective= 16885000000.0\n",
      "\n",
      "Sensitivity Analysis\n",
      "Constraint\t\tShadow Price\tSlack\n",
      "_C1 : r1 <= 50000 \t -8000.0159 \t\t -0.0\n",
      "_C2 : r2 <= 50000 \t -13000.059 \t\t -0.0\n",
      "_C3 : r3 <= 50000 \t -18000.085 \t\t -0.0\n",
      "_C4 : r4 <= 50000 \t -23000.097 \t\t -0.0\n",
      "_C5 : r5 <= 50000 \t -8000.0895 \t\t -0.0\n",
      "_C6 : r6 <= 50000 \t -13000.059 \t\t -0.0\n",
      "_C7 : o1 <= 25000 \t 0.0 \t\t -25500.0\n",
      "_C8 : o2 <= 25000 \t -5000.002 \t\t -0.0\n",
      "_C9 : o3 <= 25000 \t -9999.9979 \t\t -0.0\n",
      "_C10 : o4 <= 25000 \t -15000.061 \t\t -0.0\n",
      "_C11 : o5 <= 25000 \t 0.0 \t\t 8000.0\n",
      "_C12 : o6 <= 25000 \t -5000.0481 \t\t -0.0\n",
      "_C13 : -i1 + o1 + r1 = 55500 \t 40000.139 \t\t -0.0\n",
      "_C14 : i1 - i2 + o2 + r2 = 85000 \t 45000.177 \t\t -0.0\n",
      "_C15 : i2 - i3 + o3 + r3 = 85000 \t 50000.201 \t\t -0.0\n",
      "_C16 : i3 - i4 + o4 + r4 = 100000 \t 55000.237 \t\t -0.0\n",
      "_C17 : i4 - i5 + o5 + r5 = 55000 \t 40000.188 \t\t -0.0\n",
      "_C18 : i5 - i6 + o6 + r6 = 87000 \t 45000.22 \t\t -0.0\n",
      "Status: Infeasible\n"
     ]
    }
   ],
   "source": [
    "for v in prob.variables():\n",
    "\t        print (v.name, \"=\", v.varValue, \"\\tReduced Cost =\", v.dj)\n",
    "\n",
    "print (\"objective=\", value(prob.objective))\n",
    "\n",
    "print (\"\\nSensitivity Analysis\\nConstraint\\t\\tShadow Price\\tSlack\")\n",
    "for name, c in prob.constraints.items():\n",
    "        print (name, \":\", c, \"\\t\", c.pi, \"\\t\\t\", c.slack)\n",
    "\n",
    "print(\"Status:\", LpStatus[prob.status])"
   ]
  },
  {
   "cell_type": "code",
   "execution_count": null,
   "metadata": {
    "collapsed": true
   },
   "outputs": [],
   "source": []
  }
 ],
 "metadata": {
  "kernelspec": {
   "display_name": "Python 3",
   "language": "python",
   "name": "python3"
  },
  "language_info": {
   "codemirror_mode": {
    "name": "ipython",
    "version": 3
   },
   "file_extension": ".py",
   "mimetype": "text/x-python",
   "name": "python",
   "nbconvert_exporter": "python",
   "pygments_lexer": "ipython3",
   "version": "3.6.3"
  }
 },
 "nbformat": 4,
 "nbformat_minor": 2
}
