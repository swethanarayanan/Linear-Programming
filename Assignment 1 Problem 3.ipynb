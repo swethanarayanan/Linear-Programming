{
 "cells": [
  {
   "cell_type": "code",
   "execution_count": 13,
   "metadata": {
    "collapsed": true
   },
   "outputs": [],
   "source": [
    "from pulp import *\n",
    "import pandas as pd"
   ]
  },
  {
   "cell_type": "code",
   "execution_count": 14,
   "metadata": {
    "collapsed": true
   },
   "outputs": [],
   "source": [
    "# declare your variables\n",
    "# r(j) - Regular production of EVs in month j where j = 1,2,3,4,5,6\n",
    "# o(j) - Overtime production of EVs in month j where j = 1,2,3,4,5,6\n",
    "# i(j) - Extra EVs carried over as investory in month j where j = 1,2,3,4,5,6\n",
    "x1 = LpVariable(\"x1\", 0 ,None,LpContinuous) # 0<= x1 <= Infinity\n",
    "x2 = LpVariable(\"x2\", 0 ,None,LpContinuous) # 0<= x2 <= Infinity\n",
    "x3 = LpVariable(\"x3\", 0 ,None,LpContinuous) # 0<= x3 <= Infinity"
   ]
  },
  {
   "cell_type": "code",
   "execution_count": 15,
   "metadata": {
    "collapsed": true
   },
   "outputs": [],
   "source": [
    "# defines the problem\n",
    "prob = LpProblem(\"problem\", LpMaximize)"
   ]
  },
  {
   "cell_type": "code",
   "execution_count": 16,
   "metadata": {
    "collapsed": true
   },
   "outputs": [],
   "source": [
    "# defines the objective function to maximize\n",
    "prob += 60*x1+30*x2+ 20*x3\n",
    "#where \n",
    "#Regular Production cost of per EV : $32000\n",
    "#Overtime Production cost of per EV : $40000\n",
    "#Inventory cost of per EV per month : $5000"
   ]
  },
  {
   "cell_type": "code",
   "execution_count": 17,
   "metadata": {
    "collapsed": true
   },
   "outputs": [],
   "source": [
    "# defines the constraints\n",
    "prob += 8*x1+6*x2+ x3 <= 48\n",
    "prob += 4*x1+2*x2+ 1.5*x3 <= 20\n",
    "prob += 2*x1+1.5*x2+ 0.5*x3 <= 8"
   ]
  },
  {
   "cell_type": "code",
   "execution_count": 18,
   "metadata": {},
   "outputs": [
    {
     "data": {
      "text/plain": [
       "1"
      ]
     },
     "execution_count": 18,
     "metadata": {},
     "output_type": "execute_result"
    }
   ],
   "source": [
    "#solve\n",
    "prob.writeLP(\"Assignment1Prob3.lp\")\n",
    "prob.solve()"
   ]
  },
  {
   "cell_type": "code",
   "execution_count": 19,
   "metadata": {},
   "outputs": [
    {
     "name": "stdout",
     "output_type": "stream",
     "text": [
      "x1 = 2.0 \tReduced Cost = -0.0\n",
      "x2 = 0.0 \tReduced Cost = -5.0\n",
      "x3 = 8.0 \tReduced Cost = -0.0\n",
      "objective= 280.0\n",
      "\n",
      "Sensitivity Analysis\n",
      "Constraint\t\tShadow Price\tSlack\n",
      "_C1 : 8*x1 + 6*x2 + x3 <= 48 \t -0.0 \t\t 24.0\n",
      "_C2 : 4*x1 + 2*x2 + 1.5*x3 <= 20.0 \t 10.0 \t\t -0.0\n",
      "_C3 : 2*x1 + 1.5*x2 + 0.5*x3 <= 8.0 \t 10.0 \t\t -0.0\n",
      "Status: Optimal\n"
     ]
    }
   ],
   "source": [
    "for v in prob.variables():\n",
    "\t        print (v.name, \"=\", v.varValue, \"\\tReduced Cost =\", v.dj)\n",
    "\n",
    "print (\"objective=\", value(prob.objective))\n",
    "\n",
    "print (\"\\nSensitivity Analysis\\nConstraint\\t\\tShadow Price\\tSlack\")\n",
    "for name, c in prob.constraints.items():\n",
    "        print (name, \":\", c, \"\\t\", c.pi, \"\\t\\t\", c.slack)\n",
    "\n",
    "print(\"Status:\", LpStatus[prob.status])"
   ]
  },
  {
   "cell_type": "code",
   "execution_count": 9,
   "metadata": {
    "collapsed": true
   },
   "outputs": [],
   "source": [
    "# DUal\n",
    "y1 = LpVariable(\"y1\", 0 ,None,LpContinuous) # 0<= r1 <= Infinity\n",
    "y2 = LpVariable(\"y2\", 0 ,None,LpContinuous) # 0<= r2 <= Infinity\n",
    "y3 = LpVariable(\"y3\", 0 ,None,LpContinuous) # 0<= r3 <= Infinity\n",
    "prob = LpProblem(\"problem\", LpMinimize)\n",
    "prob += 48*y1+20*y2+ 8*y3"
   ]
  },
  {
   "cell_type": "code",
   "execution_count": 10,
   "metadata": {
    "collapsed": true
   },
   "outputs": [],
   "source": [
    "prob += 8*y1+4*y2+ 2*y3 >= 60\n",
    "prob += 6*y1+2*y2+ 1.5*y3 >= 30\n",
    "prob += y1+1.5*y2+ 0.5*y3 >= 20"
   ]
  },
  {
   "cell_type": "code",
   "execution_count": 11,
   "metadata": {},
   "outputs": [
    {
     "data": {
      "text/plain": [
       "1"
      ]
     },
     "execution_count": 11,
     "metadata": {},
     "output_type": "execute_result"
    }
   ],
   "source": [
    "#solve\n",
    "prob.writeLP(\"Assignment1Prob3Dual.lp\")\n",
    "prob.solve()"
   ]
  },
  {
   "cell_type": "code",
   "execution_count": 12,
   "metadata": {},
   "outputs": [
    {
     "name": "stdout",
     "output_type": "stream",
     "text": [
      "y1 = 0.0 \tReduced Cost = 24.0\n",
      "y2 = 10.0 \tReduced Cost = 0.0\n",
      "y3 = 10.0 \tReduced Cost = 0.0\n",
      "objective= 280.0\n",
      "\n",
      "Sensitivity Analysis\n",
      "Constraint\t\tShadow Price\tSlack\n",
      "_C1 : 8*y1 + 4*y2 + 2*y3 >= 60 \t 2.0 \t\t -0.0\n",
      "_C2 : 6*y1 + 2*y2 + 1.5*y3 >= 30.0 \t 0.0 \t\t -5.0\n",
      "_C3 : y1 + 1.5*y2 + 0.5*y3 >= 20.0 \t 8.0 \t\t -0.0\n",
      "Status: Optimal\n"
     ]
    }
   ],
   "source": [
    "for v in prob.variables():\n",
    "\t        print (v.name, \"=\", v.varValue, \"\\tReduced Cost =\", v.dj)\n",
    "\n",
    "print (\"objective=\", value(prob.objective))\n",
    "\n",
    "print (\"\\nSensitivity Analysis\\nConstraint\\t\\tShadow Price\\tSlack\")\n",
    "for name, c in prob.constraints.items():\n",
    "        print (name, \":\", c, \"\\t\", c.pi, \"\\t\\t\", c.slack)\n",
    "\n",
    "print(\"Status:\", LpStatus[prob.status])"
   ]
  },
  {
   "cell_type": "code",
   "execution_count": null,
   "metadata": {
    "collapsed": true
   },
   "outputs": [],
   "source": []
  }
 ],
 "metadata": {
  "kernelspec": {
   "display_name": "Python 3",
   "language": "python",
   "name": "python3"
  },
  "language_info": {
   "codemirror_mode": {
    "name": "ipython",
    "version": 3
   },
   "file_extension": ".py",
   "mimetype": "text/x-python",
   "name": "python",
   "nbconvert_exporter": "python",
   "pygments_lexer": "ipython3",
   "version": "3.6.3"
  }
 },
 "nbformat": 4,
 "nbformat_minor": 2
}
